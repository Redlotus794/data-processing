{
 "cells": [
  {
   "cell_type": "markdown",
   "id": "27771ccf-ee42-4181-ba0f-8f5f9de15fd2",
   "metadata": {},
   "source": [
    "# DVL - Dragon Version Log V2 \n",
    "\n",
    "这是一个使用全球整车发版日志进行搜索处理的，以期达到在少量数据上有较高的搜索准确率\n",
    "v2 使用的数据集是 经过OpenAI创建摘要的发版日志数据集 20240229版本"
   ]
  },
  {
   "cell_type": "code",
   "execution_count": null,
   "id": "4c6a1dde-b92c-4087-954e-9155d4c1151f",
   "metadata": {},
   "outputs": [],
   "source": [
    "!pip install -r '/Users/wangjialong/Documents/code/saic_project/global-vehicle-dragon/data-processing/requirements.txt'"
   ]
  },
  {
   "cell_type": "markdown",
   "id": "8a9df298-fc6f-4545-9808-df4c5f09fd61",
   "metadata": {},
   "source": [
    "# 加载环境配置"
   ]
  },
  {
   "cell_type": "code",
   "execution_count": 2,
   "id": "5099c105-d34f-4b6d-95a7-779cd8582c16",
   "metadata": {},
   "outputs": [
    {
     "name": "stdout",
     "output_type": "stream",
     "text": [
      "env: ENV_FOR_DYNACONF=local\n",
      "settings loaded:  local\n"
     ]
    },
    {
     "name": "stderr",
     "output_type": "stream",
     "text": [
      "/Users/wangjialong/anaconda3/envs/data-processing/lib/python3.9/site-packages/pydantic/_internal/_fields.py:151: UserWarning: Field \"model_name\" has conflict with protected namespace \"model_\".\n",
      "\n",
      "You may be able to resolve this warning by setting `model_config['protected_namespaces'] = ()`.\n",
      "  warnings.warn(\n"
     ]
    },
    {
     "name": "stdout",
     "output_type": "stream",
     "text": [
      "settings loaded:  local\n",
      "Debug: False\n"
     ]
    }
   ],
   "source": [
    "%env ENV_FOR_DYNACONF=local\n",
    "import os \n",
    "os.chdir('/Users/wangjialong/Documents/code/saic_project/global-vehicle-dragon/data-processing')\n",
    "\n",
    "# 重新加载模块\n",
    "from importlib import reload\n",
    "from config.settings import Settings\n",
    "import db.db_manager\n",
    "import config.settings\n",
    "import os\n",
    "from pymilvus import (\n",
    "    MilvusClient,\n",
    "    connections,\n",
    "    utility,\n",
    "    FieldSchema, CollectionSchema, DataType,\n",
    "    Collection,\n",
    ")\n",
    "from sqlalchemy import func, create_engine\n",
    "from towhee import pipe, ops\n",
    "from db.milvus_manager import MilvusConn\n",
    "from langchain.text_splitter import MarkdownTextSplitter\n",
    "import pandas as pd\n",
    "from db.db_manager import DBConn\n",
    "from db.model.p_dragon import DVL_V2\n",
    "\n",
    "reload(config.settings)\n",
    "reload(db.db_manager)\n",
    "print(f\"Debug: {bool(Settings.DEBUG)}\")"
   ]
  },
  {
   "cell_type": "markdown",
   "id": "dfec5beb-0523-426b-89d3-24dae3fed211",
   "metadata": {},
   "source": [
    "# 查询源数据目录，加载到DB中"
   ]
  },
  {
   "cell_type": "code",
   "execution_count": 3,
   "id": "0e5bd88b-be46-4bda-9d96-7b56932be412",
   "metadata": {},
   "outputs": [
    {
     "name": "stdout",
     "output_type": "stream",
     "text": [
      "目录 '/Users/wangjialong/Documents/AI/SAIC_DCSGlobalVehicle/DVL/prd_dvl_md_20240229' 下有 94 个文件。\n"
     ]
    }
   ],
   "source": [
    "file_directory = r'/Users/wangjialong/Documents/AI/SAIC_DCSGlobalVehicle/DVL/prd_dvl_md_20240229'\n",
    "files = os.listdir(file_directory)\n",
    "file_count = sum(os.path.isfile(os.path.join(file_directory, item)) for item in files)\n",
    "print(f\"目录 '{file_directory}' 下有 {file_count} 个文件。\")"
   ]
  },
  {
   "cell_type": "code",
   "execution_count": null,
   "id": "253260f5-a71d-497d-8918-1f8dff1a2558",
   "metadata": {},
   "outputs": [],
   "source": [
    "from db.model.p_dragon import DVL_V2\n",
    "import hashlib\n",
    "from etl.dragon_etl import save_dvl_v2_model\n",
    "from db.db_manager import DBConn\n",
    "\n",
    "for index, item in enumerate(files, start=1):\n",
    "    if item in ['.DS_Store', 'index.md']:\n",
    "        continue;\n",
    "    \n",
    "    db_conn = DBConn()\n",
    "    full_path = os.path.join(file_directory, item)\n",
    "    hash_obj = hashlib.sha256()\n",
    "    if os.path.isfile(full_path):\n",
    "        print(f\"处理文件 {index} |'{item}'\")\n",
    "        try:\n",
    "            with open(full_path, 'r') as file:\n",
    "                content = file.read()\n",
    "                hash_obj.update(content.encode())\n",
    "                new_model = DVL_V2(\n",
    "                    name = item,\n",
    "                    hash = hash_obj.hexdigest(),\n",
    "                    content = content\n",
    "                )\n",
    "            save_dvl_v2_model(conn=db_conn, model=new_model)\n",
    "        except Exception as e:\n",
    "            print(f\"Failed! {index} | {full_path} | {e}\")\n",
    "    db_conn.close()\n"
   ]
  },
  {
   "cell_type": "code",
   "execution_count": 4,
   "id": "08db7e9e-8f3d-42c2-ae0a-653fa37b9e4d",
   "metadata": {},
   "outputs": [
    {
     "name": "stderr",
     "output_type": "stream",
     "text": [
      "/Users/wangjialong/anaconda3/envs/data-processing/lib/python3.9/site-packages/tqdm/auto.py:21: TqdmWarning: IProgress not found. Please update jupyter and ipywidgets. See https://ipywidgets.readthedocs.io/en/stable/user_install.html\n",
      "  from .autonotebook import tqdm as notebook_tqdm\n"
     ]
    }
   ],
   "source": [
    "from transformers import BertTokenizer, BertModel\n",
    "import torch\n",
    "from scipy.spatial.distance import cosine\n",
    "\n",
    "\n",
    "def sentence_to_vector(sentence):\n",
    "    \"\"\"\n",
    "    定义模型转embedding\n",
    "    :return embedding\n",
    "    \"\"\"\n",
    "    # 加载分词器和模型\n",
    "    tokenizer = BertTokenizer.from_pretrained('bert-base-chinese')\n",
    "    model = BertModel.from_pretrained('bert-base-chinese')\n",
    "    input = tokenizer(sentence, return_tensors='pt', padding='max_length', max_length=512)\n",
    "    with torch.no_grad():\n",
    "        output = model(**input)\n",
    "    sentence_embedding = output.last_hidden_state.mean(dim=1)\n",
    "    return sentence_embedding"
   ]
  },
  {
   "cell_type": "markdown",
   "id": "a24da774-8d9d-4aef-86c5-4d04743526c5",
   "metadata": {},
   "source": [
    "# 对数据库内的数据进行向量化\n",
    "\n",
    "使用bert-base-chinese模型，对数据库的content进行分块嵌入到milvus的向量数据库中\n"
   ]
  },
  {
   "cell_type": "code",
   "execution_count": null,
   "id": "c75efb8d-5cd7-49c3-b62c-aabe29cd9e46",
   "metadata": {},
   "outputs": [],
   "source": [
    "# 参数\n",
    "database_name = 'dvl_v2'\n",
    "# 最大文本的长度\n",
    "max_token = 512\n",
    "# 查询分区数量\n",
    "partition_num = 100\n",
    "# my_model_name = 'shibing624/text2vec-base-chinese'\n",
    "my_model_name = 'bert-base-chinese'\n",
    "\n",
    "connections.connect(host=Settings.MILVUS_URL, port=Settings.MILVUS_PORT)\n",
    "client = MilvusClient(host=Settings.MILVUS_URL, port=Settings.MILVUS_PORT)\n",
    "\n",
    "print(utility.has_collection(collection_name = database_name))\n",
    "if utility.has_collection(collection_name = database_name):\n",
    "    print(f\"describe: {client.describe_collection(collection_name = database_name)}\")\n",
    "    print(f\"num of entities: {client.num_entities(collection_name = database_name)}\")\n",
    "\n",
    "milvus_conn = MilvusConn(database_name)\n",
    "db_conn = DBConn()\n",
    "\n",
    "count_query = f\"SELECT count(1) FROM p_dragon.dragon_version_log_v2 LIMIT {partition_num}\"\n",
    "total_num = db_conn.session.query(func.count(DVL_V2.id)).scalar()\n",
    "iteration_times = total_num // partition_num + (0 if total_num % partition_num == 0 else 1)\n",
    "print(f\"Records Count: {total_num} | iterations time: {iteration_times}\")\n",
    "db_conn.close()\n",
    "\n",
    "result_pd = pd.DataFrame(columns=['name', 'embedding'])\n",
    "\n",
    "# 这一块可以抽取相同代码块\n",
    "for i in range(iteration_times):    \n",
    "    engine = create_engine(Settings.DB_URL)\n",
    "    start_num = i * partition_num\n",
    "    select_query = f\"SELECT id, name, content as content FROM p_dragon.dragon_version_log_v2 LIMIT {partition_num} OFFSET {start_num}\"     \n",
    "    with engine.connect() as connection, connection.begin():\n",
    "        df = pd.read_sql_query(sql=select_query, con=connection.connection)\n",
    "        for index, row in enumerate(df.itertuples(index=False), start=1):\n",
    "            if row.id is None:\n",
    "                break\n",
    "\n",
    "            if len(row.content) > max_token:\n",
    "                print(f\"{row.id} | {row.name} | {len(row.content)} | 大于最大token长度，切割块\")\n",
    "                markdown_spilitter = MarkdownTextSplitter(chunk_size=max_token, chunk_overlap=0)\n",
    "                docs = markdown_spilitter.create_documents([row.content])\n",
    "                for split in docs:\n",
    "                    normalize_vector = sentence_to_vector(split.page_content)\n",
    "                    new_row = pd.DataFrame([[row.name, normalize_vector[0].numpy()]],\n",
    "                        columns=['name', 'embedding'])\n",
    "                    result_pd = pd.concat([result_pd, new_row])\n",
    "            else:    \n",
    "                print(f\"处理数据 分片{i}|{index}\")\n",
    "                normalize_vector = sentence_to_vector(row.content)\n",
    "                new_row = pd.DataFrame([[row.name, normalize_vector[0].numpy()]],\n",
    "                        columns=['name', 'embedding'])\n",
    "                result_pd = pd.concat([result_pd, new_row])\n",
    "\n",
    "        milvus_conn.insert(result_pd)                \n",
    "        engine.dispose()\n",
    "milvus_conn.flush()\n",
    "milvus_conn.stats()\n",
    "print(f\"all done\") \n",
    "# print(f\"data 0 : {df.loc[0]}\")"
   ]
  },
  {
   "cell_type": "code",
   "execution_count": 6,
   "id": "354ac879-393c-4b6b-9d90-c60ad69dde6e",
   "metadata": {},
   "outputs": [],
   "source": [
    "# 根据简单的提示词，看下是否能正确的召回数据\n",
    "def testify_query(prompt_word):\n",
    "    embedding = sentence_to_vector(prompt_word)\n",
    "    # 参数\n",
    "    database_name = 'dvl_v2'\n",
    "    milvus_conn = MilvusConn(database_name)\n",
    "    search_params = {\n",
    "        \"metric_type\": \"L2\", \n",
    "        \"offset\": 0, \n",
    "        \"ignore_growing\": False, \n",
    "        \"params\": {\"nprobe\": 10}\n",
    "    }\n",
    "    milvus_conn.collection.load()\n",
    "    results = milvus_conn.collection.search(\n",
    "        data = [embedding[0].numpy()],\n",
    "        anns_field = 'embedding',\n",
    "        param = search_params,\n",
    "        limit = 10,\n",
    "        expr = None,\n",
    "        output_fields = ['name'],\n",
    "        consistency_level = 'Strong'\n",
    "    )\n",
    "\n",
    "    # for hit in results[0]:\n",
    "    # print(f\"{hit.entity.get('name')} | {hit.distance}\")\n",
    "    return [hit.entity.get('name') for hit in results[0]]"
   ]
  },
  {
   "cell_type": "markdown",
   "id": "d7d1e0d1-e12c-4daa-b4cb-ed2e4fed9e10",
   "metadata": {},
   "source": [
    "# 加载验证集\n",
    "\n",
    "读取验证集文件dvl_qa_20240301.csv"
   ]
  },
  {
   "cell_type": "code",
   "execution_count": 57,
   "id": "b1bdc4a0-fec7-406d-a142-262ea21cc759",
   "metadata": {},
   "outputs": [
    {
     "name": "stdout",
     "output_type": "stream",
     "text": [
      "(19, 2)\n"
     ]
    }
   ],
   "source": [
    "import pandas as pd\n",
    "from ast import literal_eval\n",
    "\n",
    "file_dir = './dvl/data/dvl_qa_20240301.csv'\n",
    "df = pd.read_csv(file_dir)\n",
    "print(df.shape)\n",
    "# print(df['question'][0])\n",
    "# print(df['answer'][0])"
   ]
  },
  {
   "cell_type": "code",
   "execution_count": 58,
   "id": "7cfb6c81-6f27-4530-ab62-013a606bfd1c",
   "metadata": {},
   "outputs": [
    {
     "name": "stdout",
     "output_type": "stream",
     "text": [
      "progress 1\n"
     ]
    },
    {
     "name": "stderr",
     "output_type": "stream",
     "text": [
      "2024-03-01 10:37:33,038 - 140704323120000 - milvus_client.py-milvus_client:553 - DEBUG: Created new connection using: c35817e4784944adb1cb3ba02a3bb38d\n"
     ]
    },
    {
     "name": "stdout",
     "output_type": "stream",
     "text": [
      "progress 2\n"
     ]
    },
    {
     "name": "stderr",
     "output_type": "stream",
     "text": [
      "2024-03-01 10:37:34,971 - 140704323120000 - milvus_client.py-milvus_client:553 - DEBUG: Created new connection using: 26789f79188443369640181c18d44d90\n"
     ]
    },
    {
     "name": "stdout",
     "output_type": "stream",
     "text": [
      "progress 3\n"
     ]
    },
    {
     "name": "stderr",
     "output_type": "stream",
     "text": [
      "2024-03-01 10:37:37,170 - 140704323120000 - milvus_client.py-milvus_client:553 - DEBUG: Created new connection using: db4aebb9856d4896ba3deb84f39e004c\n"
     ]
    },
    {
     "name": "stdout",
     "output_type": "stream",
     "text": [
      "progress 4\n"
     ]
    },
    {
     "name": "stderr",
     "output_type": "stream",
     "text": [
      "2024-03-01 10:37:40,049 - 140704323120000 - milvus_client.py-milvus_client:553 - DEBUG: Created new connection using: 65e42a5185234db5a0079d6679dbc6a3\n"
     ]
    },
    {
     "name": "stdout",
     "output_type": "stream",
     "text": [
      "progress 5\n"
     ]
    },
    {
     "name": "stderr",
     "output_type": "stream",
     "text": [
      "2024-03-01 10:37:42,234 - 140704323120000 - milvus_client.py-milvus_client:553 - DEBUG: Created new connection using: 4f99bc3f129247d098374d5156f83e3b\n"
     ]
    },
    {
     "name": "stdout",
     "output_type": "stream",
     "text": [
      "progress 6\n"
     ]
    },
    {
     "name": "stderr",
     "output_type": "stream",
     "text": [
      "2024-03-01 10:37:44,042 - 140704323120000 - milvus_client.py-milvus_client:553 - DEBUG: Created new connection using: 3a41015cea1c4f808a1f116f379eb2ec\n"
     ]
    },
    {
     "name": "stdout",
     "output_type": "stream",
     "text": [
      "progress 7\n"
     ]
    },
    {
     "name": "stderr",
     "output_type": "stream",
     "text": [
      "2024-03-01 10:37:46,006 - 140704323120000 - milvus_client.py-milvus_client:553 - DEBUG: Created new connection using: 0852c1d6ab5a438996e482e913adeadd\n"
     ]
    },
    {
     "name": "stdout",
     "output_type": "stream",
     "text": [
      "progress 8\n"
     ]
    },
    {
     "name": "stderr",
     "output_type": "stream",
     "text": [
      "2024-03-01 10:37:48,141 - 140704323120000 - milvus_client.py-milvus_client:553 - DEBUG: Created new connection using: af8333c6af4d4e0698b9564af6470a80\n"
     ]
    },
    {
     "name": "stdout",
     "output_type": "stream",
     "text": [
      "progress 9\n"
     ]
    },
    {
     "name": "stderr",
     "output_type": "stream",
     "text": [
      "2024-03-01 10:37:50,068 - 140704323120000 - milvus_client.py-milvus_client:553 - DEBUG: Created new connection using: 32494b339df44a14a4756e8459ec5c8a\n"
     ]
    },
    {
     "name": "stdout",
     "output_type": "stream",
     "text": [
      "progress 10\n"
     ]
    },
    {
     "name": "stderr",
     "output_type": "stream",
     "text": [
      "2024-03-01 10:37:51,975 - 140704323120000 - milvus_client.py-milvus_client:553 - DEBUG: Created new connection using: 9fac83d83b084be485613fd28fa118a2\n"
     ]
    },
    {
     "name": "stdout",
     "output_type": "stream",
     "text": [
      "progress 11\n"
     ]
    },
    {
     "name": "stderr",
     "output_type": "stream",
     "text": [
      "2024-03-01 10:37:54,179 - 140704323120000 - milvus_client.py-milvus_client:553 - DEBUG: Created new connection using: b1002c2e46664a0780c30e3f8a9d1b7e\n"
     ]
    },
    {
     "name": "stdout",
     "output_type": "stream",
     "text": [
      "progress 12\n"
     ]
    },
    {
     "name": "stderr",
     "output_type": "stream",
     "text": [
      "2024-03-01 10:37:56,594 - 140704323120000 - milvus_client.py-milvus_client:553 - DEBUG: Created new connection using: 42ede88acfbb41cca89629658f324bfc\n"
     ]
    },
    {
     "name": "stdout",
     "output_type": "stream",
     "text": [
      "progress 13\n"
     ]
    },
    {
     "name": "stderr",
     "output_type": "stream",
     "text": [
      "2024-03-01 10:37:58,540 - 140704323120000 - milvus_client.py-milvus_client:553 - DEBUG: Created new connection using: c2ce5b1d48e6464bbd18cf0324cdabc5\n"
     ]
    },
    {
     "name": "stdout",
     "output_type": "stream",
     "text": [
      "progress 14\n"
     ]
    },
    {
     "name": "stderr",
     "output_type": "stream",
     "text": [
      "2024-03-01 10:38:00,182 - 140704323120000 - milvus_client.py-milvus_client:553 - DEBUG: Created new connection using: 8de6666192f2445f9c7d51b2c159911a\n"
     ]
    },
    {
     "name": "stdout",
     "output_type": "stream",
     "text": [
      "progress 15\n"
     ]
    },
    {
     "name": "stderr",
     "output_type": "stream",
     "text": [
      "2024-03-01 10:38:02,212 - 140704323120000 - milvus_client.py-milvus_client:553 - DEBUG: Created new connection using: 0d61fdb7a1b94ec89eb5745cfa9f43bf\n"
     ]
    },
    {
     "name": "stdout",
     "output_type": "stream",
     "text": [
      "progress 16\n"
     ]
    },
    {
     "name": "stderr",
     "output_type": "stream",
     "text": [
      "2024-03-01 10:38:04,373 - 140704323120000 - milvus_client.py-milvus_client:553 - DEBUG: Created new connection using: 9100f3f49b3c4fab99dc554644a55542\n"
     ]
    },
    {
     "name": "stdout",
     "output_type": "stream",
     "text": [
      "progress 17\n"
     ]
    },
    {
     "name": "stderr",
     "output_type": "stream",
     "text": [
      "2024-03-01 10:38:06,463 - 140704323120000 - milvus_client.py-milvus_client:553 - DEBUG: Created new connection using: 17165a2c440c4fdd9488b9038a18dd50\n"
     ]
    },
    {
     "name": "stdout",
     "output_type": "stream",
     "text": [
      "progress 18\n"
     ]
    },
    {
     "name": "stderr",
     "output_type": "stream",
     "text": [
      "2024-03-01 10:38:08,568 - 140704323120000 - milvus_client.py-milvus_client:553 - DEBUG: Created new connection using: fc95796bd1fb4175ac4ee5140ff4a854\n"
     ]
    },
    {
     "name": "stdout",
     "output_type": "stream",
     "text": [
      "progress 19\n"
     ]
    },
    {
     "name": "stderr",
     "output_type": "stream",
     "text": [
      "2024-03-01 10:38:10,488 - 140704323120000 - milvus_client.py-milvus_client:553 - DEBUG: Created new connection using: 0ceb153b785942f08ad89380b3909e66\n"
     ]
    },
    {
     "name": "stdout",
     "output_type": "stream",
     "text": [
      "Success: 6, Failed: 13, Success Rate : 0.3158\n",
      "Success question: ['UK By Rule Allocation Scene的配车报告是哪个版本上线的？', '哪些改动涉及ShortageETA的处理', 'SMUK - 配车报告 相关更改', '系统内存监控的改动版本', '南美Invoice query by vin字段更改记录', 'PRD 发版日志 的列表内容']\n",
      "Failed question: ['我需要一些关于南美Pending Warehouse更改的版本', '哪个改动涉及到了分支\\xa0bugfix-20600-GdsShippingAllocationError-20230731', 'BCA相关的改动有哪些版本', 'Gate Out页面是哪个版本新增Download功能的', '英国发票取消后出库凭证取消日期取值错误的issue', '内外饰颜色CODE需要能够支持数字的改动', 'BUG-20600是关于什么问题的修复', '英国区域解决的BUG中，哪个是关于循环调用接口的问题', 'BUG-20591修复了哪个具体问题?', '关于allocate页面和allocate设置页面的shipping detail的bug', 'Global DCS-Vehicle的发版日志模板', 'Offline Vehicles Maintain页面 相关更改', '有关于 Allocate Rule Setting 的修改内容']\n"
     ]
    }
   ],
   "source": [
    "success = []\n",
    "failed = []\n",
    "\n",
    "def is_subsequence(s, t):\n",
    "    \"\"\"\n",
    "    检查s是否是t的子序列。\n",
    "    \"\"\"\n",
    "    # print(f\"{s} | {t}\")\n",
    "    t_iter = iter(t)\n",
    "    return all(char in t_iter for char in s)\n",
    "\n",
    "\n",
    "for idx, item in df.iterrows():\n",
    "    print(f\"progress {idx + 1}\")\n",
    "    answer_list = testify_query(item.question)\n",
    "    matched = False\n",
    "    for ret_answer in answer_list:\n",
    "        if is_subsequence(item.answer, ret_answer):\n",
    "            matched = True\n",
    "            break\n",
    "        else:\n",
    "            continue\n",
    "\n",
    "    if matched:\n",
    "        success.append(item.question)\n",
    "    else:\n",
    "        failed.append(item.question)\n",
    "\n",
    "success_num = len(success)\n",
    "failed_num = len(failed)\n",
    "# 打印结果\n",
    "print(f\"Success: {success_num}, Failed: {failed_num}, \\\n",
    "Success Rate : {success_num / (success_num + failed_num):.4f}\")\n",
    "\n",
    "print(f\"Success question: {success}\")\n",
    "print(f\"Failed question: {failed}\")\n"
   ]
  },
  {
   "cell_type": "code",
   "execution_count": null,
   "id": "f6348e76-e9aa-4df4-975c-3bcf807f975d",
   "metadata": {},
   "outputs": [],
   "source": []
  }
 ],
 "metadata": {
  "kernelspec": {
   "display_name": "Python 3 (ipykernel)",
   "language": "python",
   "name": "python3"
  },
  "language_info": {
   "codemirror_mode": {
    "name": "ipython",
    "version": 3
   },
   "file_extension": ".py",
   "mimetype": "text/x-python",
   "name": "python",
   "nbconvert_exporter": "python",
   "pygments_lexer": "ipython3",
   "version": "3.9.18"
  }
 },
 "nbformat": 4,
 "nbformat_minor": 5
}
