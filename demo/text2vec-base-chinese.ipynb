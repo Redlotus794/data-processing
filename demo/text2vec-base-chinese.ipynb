{
 "cells": [
  {
   "cell_type": "code",
   "execution_count": null,
   "id": "e207d8c3-b981-4654-941d-958fec68f50d",
   "metadata": {},
   "outputs": [],
   "source": [
    "import os \n",
    "os.chdir('/Users/wangjialong/Documents/code/saic_project/global-vehicle-dragon/data-processing')\n",
    "\n",
    "from transformers import AutoTokenizer, AutoModel\n",
    "import torch"
   ]
  },
  {
   "cell_type": "code",
   "execution_count": null,
   "id": "afef94dc-e385-42af-aa8b-9cc57547b776",
   "metadata": {},
   "outputs": [],
   "source": [
    "# 加载分词器和模型\n",
    "tokenizer = AutoTokenizer.from_pretrained(\"shibing624/text2vec-base-chinese\")\n",
    "model = AutoModel.from_pretrained(\"shibing624/text2vec-base-chinese\")"
   ]
  },
  {
   "cell_type": "code",
   "execution_count": null,
   "id": "100e26b9-dfab-4274-bf4a-027635f65813",
   "metadata": {},
   "outputs": [],
   "source": [
    "# 准备输入文本\n",
    "text = \\\n",
    "'''\n",
    "Global DCS-Vehicle : 全球整车发票 - GV Invoice\n",
    "\n",
    "1. [Global DCS-Vehicle](index.html)\n",
    "2. [全球整车系统设计 - System Design](1050081.html)\n",
    "3. [通用语言 - Ubiquitous Language](1051364.html)\n",
    "4. [财务UL - Finance UL](1052871.html)\n",
    "\n",
    " Global DCS-Vehicle : 全球整车发票 - GV Invoice\n",
    "===========================================\n",
    "\n",
    " Created by  WangJialong 王佳龙, last modified on 11月 20, 2023\n",
    "\n",
    "| 版本 | [Sprint 7 - Germany](https://confluence.smil.com:17443/display/GLBDCSVE/Sprint+7+-+Germany) |\n",
    "| 类型 | [层超类型](8323267.html#id-领域驱动设计中的通用语言-superlayer) |\n",
    "| 作者 | [WangJialong 王佳龙](https://confluence.smil.com:17443/display/~jialong.wang)  |\n",
    "| 更新时间 | 2023-11-06 |\n",
    "\n",
    "属性 - Attribute\n",
    "==============\n",
    "\n",
    "| 属性 | 类型 | 描述 | 非空 | 限制 |\n",
    "| --- | --- | --- | --- | --- |\n",
    "| InvoiceNo | [系统发票号 - Invoice No](8323282.html) | 系统发票号 | M | 无 |\n",
    "| BizInvoiceNo | [业务发票号 - Biz Invoice No](8323291.html) | 业务发票号 | - | 无 |\n",
    "| InvoiceStatus | [发票状态 - Invoice Status](8323349.html) | 发票状态 | M | 枚举 |\n",
    "| Date | Instant | 开票日期 | M | 不能创建未来日期的发票 |\n",
    "| CancelDate | LocalDate | 取消开票日期 | - | 发票状态为Cancelled，才可以有该字段 |\n",
    "| Seller | [发票卖方 - Invoice Seller](9306233.html) | 开票方信息 | M |  |\n",
    "| Buyer | [发票买方 - Invoice Buyer](9306497.html) | 发票买方的信息 | M |  |\n",
    "| InvoiceInfo | [发票信息 - InvoiceInfo](9306665.html) | 发票创建和取消的信息 | - |  |\n",
    "\n",
    "功能 - Function\n",
    "=============\n",
    "\n",
    "### 取消发票 - cancelInvoice\n",
    "\n",
    "战术设计图\n",
    "=====\n",
    "\n",
    "![](attachments/1052881/9306135.png)\n",
    "\n",
    "Attachments:\n",
    "------------\n",
    "\n",
    "![](images/icons/bullet_blue.gif)\n",
    "\n",
    "'''\n",
    "encoded_input = tokenizer(text, return_tensors='pt')\n",
    "# print(encoded_input)"
   ]
  },
  {
   "cell_type": "code",
   "execution_count": null,
   "id": "ad4e0cda-e191-4a11-9d44-62c5875a8a46",
   "metadata": {},
   "outputs": [],
   "source": [
    "from langchain.text_splitter import MarkdownTextSplitter\n",
    "\n",
    "markdown_spilitter = MarkdownTextSplitter(chunk_size=512, chunk_overlap=0)\n",
    "docs = markdown_spilitter.create_documents([text])\n",
    "\n",
    "# for split in docs:\n",
    "#     print(split.page_content)\n",
    "first = docs[0].page_content\n",
    "print(first)\n",
    "\n"
   ]
  },
  {
   "cell_type": "code",
   "execution_count": null,
   "id": "f8335b8f-4438-4743-88ae-1ce7ee0d46a1",
   "metadata": {},
   "outputs": [],
   "source": [
    "from towhee import AutoPipes, AutoConfig\n",
    "\n",
    "\n",
    "config = AutoConfig.load_config('sentence_embedding')\n",
    "# config.model = 'paraphrase-albert-small-v2'\n",
    "# config.model = 'all-MiniLM-L6-v2'\n",
    "\n",
    "sentence_embedding = AutoPipes.pipeline('sentence_embedding', config=config)\n",
    "embedding = sentence_embedding('how are you?').get()\n",
    "print(embedding)"
   ]
  },
  {
   "cell_type": "code",
   "execution_count": 31,
   "id": "eff83331-9316-4590-b63c-fb2178e6b518",
   "metadata": {},
   "outputs": [
    {
     "name": "stderr",
     "output_type": "stream",
     "text": [
      "2024-02-24 01:26:07,086 - 123146063142912 - decorators.py-decorators:134 - ERROR: RPC error: [batch_insert], <ParamError: (code=1, message=Collection field dim is 768, but entities field dim is 1)>, <Time:{'RPC start': '2024-02-24 01:26:07.086237', 'RPC error': '2024-02-24 01:26:07.086284'}>\n"
     ]
    },
    {
     "ename": "RuntimeError",
     "evalue": "Node-ann-insert/milvus-client-0 runs failed, error msg: <ParamError: (code=1, message=Collection field dim is 768, but entities field dim is 1)>, Traceback (most recent call last):\n  File \"/Users/wangjialong/anaconda3/envs/data-processing/lib/python3.9/site-packages/towhee/runtime/nodes/node.py\", line 158, in _call\n    return True, self._op(*inputs), None\n  File \"/Users/wangjialong/.towhee/operators/ann-insert/milvus-client/versions/main/milvus_client.py\", line 52, in __call__\n    mr = self._collection.insert(row)\n  File \"/Users/wangjialong/anaconda3/envs/data-processing/lib/python3.9/site-packages/pymilvus/orm/collection.py\", line 497, in insert\n    res = conn.batch_insert(\n  File \"/Users/wangjialong/anaconda3/envs/data-processing/lib/python3.9/site-packages/pymilvus/decorators.py\", line 135, in handler\n    raise e from e\n  File \"/Users/wangjialong/anaconda3/envs/data-processing/lib/python3.9/site-packages/pymilvus/decorators.py\", line 131, in handler\n    return func(*args, **kwargs)\n  File \"/Users/wangjialong/anaconda3/envs/data-processing/lib/python3.9/site-packages/pymilvus/decorators.py\", line 170, in handler\n    return func(self, *args, **kwargs)\n  File \"/Users/wangjialong/anaconda3/envs/data-processing/lib/python3.9/site-packages/pymilvus/decorators.py\", line 110, in handler\n    raise e from e\n  File \"/Users/wangjialong/anaconda3/envs/data-processing/lib/python3.9/site-packages/pymilvus/decorators.py\", line 74, in handler\n    return func(*args, **kwargs)\n  File \"/Users/wangjialong/anaconda3/envs/data-processing/lib/python3.9/site-packages/pymilvus/client/grpc_handler.py\", line 566, in batch_insert\n    raise err from err\n  File \"/Users/wangjialong/anaconda3/envs/data-processing/lib/python3.9/site-packages/pymilvus/client/grpc_handler.py\", line 549, in batch_insert\n    request = self._prepare_batch_insert_request(\n  File \"/Users/wangjialong/anaconda3/envs/data-processing/lib/python3.9/site-packages/pymilvus/client/grpc_handler.py\", line 533, in _prepare_batch_insert_request\n    else Prepare.batch_insert_param(collection_name, entities, partition_name, fields_info)\n  File \"/Users/wangjialong/anaconda3/envs/data-processing/lib/python3.9/site-packages/pymilvus/client/prepare.py\", line 521, in batch_insert_param\n    location = cls._pre_batch_check(entities, fields_info)\n  File \"/Users/wangjialong/anaconda3/envs/data-processing/lib/python3.9/site-packages/pymilvus/client/prepare.py\", line 466, in _pre_batch_check\n    location, primary_key_loc, auto_id_loc = traverse_info(fields_info, entities)\n  File \"/Users/wangjialong/anaconda3/envs/data-processing/lib/python3.9/site-packages/pymilvus/client/utils.py\", line 270, in traverse_info\n    raise ParamError(\npymilvus.exceptions.ParamError: <ParamError: (code=1, message=Collection field dim is 768, but entities field dim is 1)>\n, Traceback (most recent call last):\n  File \"/Users/wangjialong/anaconda3/envs/data-processing/lib/python3.9/site-packages/towhee/runtime/nodes/node.py\", line 171, in process\n    self.process_step()\n  File \"/Users/wangjialong/anaconda3/envs/data-processing/lib/python3.9/site-packages/towhee/runtime/nodes/_map.py\", line 63, in process_step\n    assert succ, msg\nAssertionError: <ParamError: (code=1, message=Collection field dim is 768, but entities field dim is 1)>, Traceback (most recent call last):\n  File \"/Users/wangjialong/anaconda3/envs/data-processing/lib/python3.9/site-packages/towhee/runtime/nodes/node.py\", line 158, in _call\n    return True, self._op(*inputs), None\n  File \"/Users/wangjialong/.towhee/operators/ann-insert/milvus-client/versions/main/milvus_client.py\", line 52, in __call__\n    mr = self._collection.insert(row)\n  File \"/Users/wangjialong/anaconda3/envs/data-processing/lib/python3.9/site-packages/pymilvus/orm/collection.py\", line 497, in insert\n    res = conn.batch_insert(\n  File \"/Users/wangjialong/anaconda3/envs/data-processing/lib/python3.9/site-packages/pymilvus/decorators.py\", line 135, in handler\n    raise e from e\n  File \"/Users/wangjialong/anaconda3/envs/data-processing/lib/python3.9/site-packages/pymilvus/decorators.py\", line 131, in handler\n    return func(*args, **kwargs)\n  File \"/Users/wangjialong/anaconda3/envs/data-processing/lib/python3.9/site-packages/pymilvus/decorators.py\", line 170, in handler\n    return func(self, *args, **kwargs)\n  File \"/Users/wangjialong/anaconda3/envs/data-processing/lib/python3.9/site-packages/pymilvus/decorators.py\", line 110, in handler\n    raise e from e\n  File \"/Users/wangjialong/anaconda3/envs/data-processing/lib/python3.9/site-packages/pymilvus/decorators.py\", line 74, in handler\n    return func(*args, **kwargs)\n  File \"/Users/wangjialong/anaconda3/envs/data-processing/lib/python3.9/site-packages/pymilvus/client/grpc_handler.py\", line 566, in batch_insert\n    raise err from err\n  File \"/Users/wangjialong/anaconda3/envs/data-processing/lib/python3.9/site-packages/pymilvus/client/grpc_handler.py\", line 549, in batch_insert\n    request = self._prepare_batch_insert_request(\n  File \"/Users/wangjialong/anaconda3/envs/data-processing/lib/python3.9/site-packages/pymilvus/client/grpc_handler.py\", line 533, in _prepare_batch_insert_request\n    else Prepare.batch_insert_param(collection_name, entities, partition_name, fields_info)\n  File \"/Users/wangjialong/anaconda3/envs/data-processing/lib/python3.9/site-packages/pymilvus/client/prepare.py\", line 521, in batch_insert_param\n    location = cls._pre_batch_check(entities, fields_info)\n  File \"/Users/wangjialong/anaconda3/envs/data-processing/lib/python3.9/site-packages/pymilvus/client/prepare.py\", line 466, in _pre_batch_check\n    location, primary_key_loc, auto_id_loc = traverse_info(fields_info, entities)\n  File \"/Users/wangjialong/anaconda3/envs/data-processing/lib/python3.9/site-packages/pymilvus/client/utils.py\", line 270, in traverse_info\n    raise ParamError(\npymilvus.exceptions.ParamError: <ParamError: (code=1, message=Collection field dim is 768, but entities field dim is 1)>\n\n\n",
     "output_type": "error",
     "traceback": [
      "\u001b[0;31m---------------------------------------------------------------------------\u001b[0m",
      "\u001b[0;31mRuntimeError\u001b[0m                              Traceback (most recent call last)",
      "Cell \u001b[0;32mIn[31], line 31\u001b[0m\n\u001b[1;32m     29\u001b[0m insert_pipe \u001b[38;5;241m=\u001b[39m AutoPipes\u001b[38;5;241m.\u001b[39mpipeline(\u001b[38;5;124m'\u001b[39m\u001b[38;5;124minsert_milvus\u001b[39m\u001b[38;5;124m'\u001b[39m, insert_conf)\n\u001b[1;32m     30\u001b[0m \u001b[38;5;66;03m# insert text and embedding into Milvus\u001b[39;00m\n\u001b[0;32m---> 31\u001b[0m \u001b[43minsert_pipe\u001b[49m\u001b[43m(\u001b[49m\u001b[43m[\u001b[49m\u001b[38;5;124;43m\"\u001b[39;49m\u001b[38;5;124;43mtest1\u001b[39;49m\u001b[38;5;124;43m\"\u001b[39;49m\u001b[43m,\u001b[49m\u001b[43m \u001b[49m\u001b[43membedding\u001b[49m\u001b[43m]\u001b[49m\u001b[43m)\u001b[49m\n",
      "File \u001b[0;32m~/anaconda3/envs/data-processing/lib/python3.9/site-packages/towhee/runtime/runtime_pipeline.py:159\u001b[0m, in \u001b[0;36mRuntimePipeline.__call__\u001b[0;34m(self, *inputs)\u001b[0m\n\u001b[1;32m    155\u001b[0m \u001b[38;5;28;01mdef\u001b[39;00m \u001b[38;5;21m__call__\u001b[39m(\u001b[38;5;28mself\u001b[39m, \u001b[38;5;241m*\u001b[39minputs):\n\u001b[1;32m    156\u001b[0m \u001b[38;5;250m    \u001b[39m\u001b[38;5;124;03m\"\"\"\u001b[39;00m\n\u001b[1;32m    157\u001b[0m \u001b[38;5;124;03m    Output with ordering matching the input `DataQueue`.\u001b[39;00m\n\u001b[1;32m    158\u001b[0m \u001b[38;5;124;03m    \"\"\"\u001b[39;00m\n\u001b[0;32m--> 159\u001b[0m     \u001b[38;5;28;01mreturn\u001b[39;00m \u001b[38;5;28;43mself\u001b[39;49m\u001b[38;5;241;43m.\u001b[39;49m\u001b[43m_call\u001b[49m\u001b[43m(\u001b[49m\u001b[38;5;241;43m*\u001b[39;49m\u001b[43minputs\u001b[49m\u001b[43m,\u001b[49m\u001b[43m \u001b[49m\u001b[43mprofiler\u001b[49m\u001b[38;5;241;43m=\u001b[39;49m\u001b[38;5;28;43;01mFalse\u001b[39;49;00m\u001b[43m,\u001b[49m\u001b[43m \u001b[49m\u001b[43mtracer\u001b[49m\u001b[38;5;241;43m=\u001b[39;49m\u001b[38;5;28;43;01mFalse\u001b[39;49;00m\u001b[43m)\u001b[49m[\u001b[38;5;241m0\u001b[39m]\n",
      "File \u001b[0;32m~/anaconda3/envs/data-processing/lib/python3.9/site-packages/towhee/runtime/runtime_pipeline.py:177\u001b[0m, in \u001b[0;36mRuntimePipeline._call\u001b[0;34m(self, profiler, tracer, trace_edges, *inputs)\u001b[0m\n\u001b[1;32m    174\u001b[0m time_profiler \u001b[38;5;241m=\u001b[39m TimeProfiler(\u001b[38;5;28;01mTrue\u001b[39;00m) \u001b[38;5;28;01mif\u001b[39;00m profiler \u001b[38;5;28;01melse\u001b[39;00m TimeProfiler(\u001b[38;5;28;01mFalse\u001b[39;00m)\n\u001b[1;32m    175\u001b[0m graph \u001b[38;5;241m=\u001b[39m _Graph(\u001b[38;5;28mself\u001b[39m\u001b[38;5;241m.\u001b[39m_dag_repr\u001b[38;5;241m.\u001b[39mnodes, \u001b[38;5;28mself\u001b[39m\u001b[38;5;241m.\u001b[39m_dag_repr\u001b[38;5;241m.\u001b[39medges, \u001b[38;5;28mself\u001b[39m\u001b[38;5;241m.\u001b[39m_operator_pool, \u001b[38;5;28mself\u001b[39m\u001b[38;5;241m.\u001b[39m_thread_pool, time_profiler, trace_edges)\n\u001b[0;32m--> 177\u001b[0m \u001b[38;5;28;01mreturn\u001b[39;00m \u001b[43mgraph\u001b[49m\u001b[43m(\u001b[49m\u001b[43minputs\u001b[49m\u001b[43m)\u001b[49m, [graph\u001b[38;5;241m.\u001b[39mtime_profiler] \u001b[38;5;28;01mif\u001b[39;00m profiler \u001b[38;5;28;01melse\u001b[39;00m \u001b[38;5;28;01mNone\u001b[39;00m, [graph\u001b[38;5;241m.\u001b[39mdata_queues] \u001b[38;5;28;01mif\u001b[39;00m tracer \u001b[38;5;28;01melse\u001b[39;00m \u001b[38;5;28;01mNone\u001b[39;00m\n",
      "File \u001b[0;32m~/anaconda3/envs/data-processing/lib/python3.9/site-packages/towhee/runtime/runtime_pipeline.py:116\u001b[0m, in \u001b[0;36m_Graph.__call__\u001b[0;34m(self, inputs)\u001b[0m\n\u001b[1;32m    114\u001b[0m \u001b[38;5;28;01mdef\u001b[39;00m \u001b[38;5;21m__call__\u001b[39m(\u001b[38;5;28mself\u001b[39m, inputs: Union[Tuple, List]):\n\u001b[1;32m    115\u001b[0m     f \u001b[38;5;241m=\u001b[39m \u001b[38;5;28mself\u001b[39m\u001b[38;5;241m.\u001b[39masync_call(inputs)\n\u001b[0;32m--> 116\u001b[0m     \u001b[38;5;28;01mreturn\u001b[39;00m \u001b[43mf\u001b[49m\u001b[38;5;241;43m.\u001b[39;49m\u001b[43mresult\u001b[49m\u001b[43m(\u001b[49m\u001b[43m)\u001b[49m\n",
      "File \u001b[0;32m~/anaconda3/envs/data-processing/lib/python3.9/site-packages/towhee/runtime/runtime_pipeline.py:34\u001b[0m, in \u001b[0;36m_GraphResult.result\u001b[0;34m(self)\u001b[0m\n\u001b[1;32m     33\u001b[0m \u001b[38;5;28;01mdef\u001b[39;00m \u001b[38;5;21mresult\u001b[39m(\u001b[38;5;28mself\u001b[39m):\n\u001b[0;32m---> 34\u001b[0m     ret \u001b[38;5;241m=\u001b[39m \u001b[38;5;28;43mself\u001b[39;49m\u001b[38;5;241;43m.\u001b[39;49m\u001b[43m_graph\u001b[49m\u001b[38;5;241;43m.\u001b[39;49m\u001b[43mresult\u001b[49m\u001b[43m(\u001b[49m\u001b[43m)\u001b[49m\n\u001b[1;32m     35\u001b[0m     \u001b[38;5;28mself\u001b[39m\u001b[38;5;241m.\u001b[39m_graph\u001b[38;5;241m.\u001b[39mrelease_op()\n\u001b[1;32m     36\u001b[0m     \u001b[38;5;28;01mdel\u001b[39;00m \u001b[38;5;28mself\u001b[39m\u001b[38;5;241m.\u001b[39m_graph\n",
      "File \u001b[0;32m~/anaconda3/envs/data-processing/lib/python3.9/site-packages/towhee/runtime/runtime_pipeline.py:95\u001b[0m, in \u001b[0;36m_Graph.result\u001b[0;34m(self)\u001b[0m\n\u001b[1;32m     93\u001b[0m             errs \u001b[38;5;241m+\u001b[39m\u001b[38;5;241m=\u001b[39m node\u001b[38;5;241m.\u001b[39merr_msg \u001b[38;5;241m+\u001b[39m \u001b[38;5;124m'\u001b[39m\u001b[38;5;130;01m\\n\u001b[39;00m\u001b[38;5;124m'\u001b[39m\n\u001b[1;32m     94\u001b[0m \u001b[38;5;28;01mif\u001b[39;00m errs:\n\u001b[0;32m---> 95\u001b[0m     \u001b[38;5;28;01mraise\u001b[39;00m \u001b[38;5;167;01mRuntimeError\u001b[39;00m(errs)\n\u001b[1;32m     96\u001b[0m end_edge_num \u001b[38;5;241m=\u001b[39m \u001b[38;5;28mself\u001b[39m\u001b[38;5;241m.\u001b[39m_nodes[\u001b[38;5;124m'\u001b[39m\u001b[38;5;124m_output\u001b[39m\u001b[38;5;124m'\u001b[39m]\u001b[38;5;241m.\u001b[39mout_edges[\u001b[38;5;241m0\u001b[39m]\n\u001b[1;32m     97\u001b[0m res \u001b[38;5;241m=\u001b[39m \u001b[38;5;28mself\u001b[39m\u001b[38;5;241m.\u001b[39m_data_queues[end_edge_num]\n",
      "\u001b[0;31mRuntimeError\u001b[0m: Node-ann-insert/milvus-client-0 runs failed, error msg: <ParamError: (code=1, message=Collection field dim is 768, but entities field dim is 1)>, Traceback (most recent call last):\n  File \"/Users/wangjialong/anaconda3/envs/data-processing/lib/python3.9/site-packages/towhee/runtime/nodes/node.py\", line 158, in _call\n    return True, self._op(*inputs), None\n  File \"/Users/wangjialong/.towhee/operators/ann-insert/milvus-client/versions/main/milvus_client.py\", line 52, in __call__\n    mr = self._collection.insert(row)\n  File \"/Users/wangjialong/anaconda3/envs/data-processing/lib/python3.9/site-packages/pymilvus/orm/collection.py\", line 497, in insert\n    res = conn.batch_insert(\n  File \"/Users/wangjialong/anaconda3/envs/data-processing/lib/python3.9/site-packages/pymilvus/decorators.py\", line 135, in handler\n    raise e from e\n  File \"/Users/wangjialong/anaconda3/envs/data-processing/lib/python3.9/site-packages/pymilvus/decorators.py\", line 131, in handler\n    return func(*args, **kwargs)\n  File \"/Users/wangjialong/anaconda3/envs/data-processing/lib/python3.9/site-packages/pymilvus/decorators.py\", line 170, in handler\n    return func(self, *args, **kwargs)\n  File \"/Users/wangjialong/anaconda3/envs/data-processing/lib/python3.9/site-packages/pymilvus/decorators.py\", line 110, in handler\n    raise e from e\n  File \"/Users/wangjialong/anaconda3/envs/data-processing/lib/python3.9/site-packages/pymilvus/decorators.py\", line 74, in handler\n    return func(*args, **kwargs)\n  File \"/Users/wangjialong/anaconda3/envs/data-processing/lib/python3.9/site-packages/pymilvus/client/grpc_handler.py\", line 566, in batch_insert\n    raise err from err\n  File \"/Users/wangjialong/anaconda3/envs/data-processing/lib/python3.9/site-packages/pymilvus/client/grpc_handler.py\", line 549, in batch_insert\n    request = self._prepare_batch_insert_request(\n  File \"/Users/wangjialong/anaconda3/envs/data-processing/lib/python3.9/site-packages/pymilvus/client/grpc_handler.py\", line 533, in _prepare_batch_insert_request\n    else Prepare.batch_insert_param(collection_name, entities, partition_name, fields_info)\n  File \"/Users/wangjialong/anaconda3/envs/data-processing/lib/python3.9/site-packages/pymilvus/client/prepare.py\", line 521, in batch_insert_param\n    location = cls._pre_batch_check(entities, fields_info)\n  File \"/Users/wangjialong/anaconda3/envs/data-processing/lib/python3.9/site-packages/pymilvus/client/prepare.py\", line 466, in _pre_batch_check\n    location, primary_key_loc, auto_id_loc = traverse_info(fields_info, entities)\n  File \"/Users/wangjialong/anaconda3/envs/data-processing/lib/python3.9/site-packages/pymilvus/client/utils.py\", line 270, in traverse_info\n    raise ParamError(\npymilvus.exceptions.ParamError: <ParamError: (code=1, message=Collection field dim is 768, but entities field dim is 1)>\n, Traceback (most recent call last):\n  File \"/Users/wangjialong/anaconda3/envs/data-processing/lib/python3.9/site-packages/towhee/runtime/nodes/node.py\", line 171, in process\n    self.process_step()\n  File \"/Users/wangjialong/anaconda3/envs/data-processing/lib/python3.9/site-packages/towhee/runtime/nodes/_map.py\", line 63, in process_step\n    assert succ, msg\nAssertionError: <ParamError: (code=1, message=Collection field dim is 768, but entities field dim is 1)>, Traceback (most recent call last):\n  File \"/Users/wangjialong/anaconda3/envs/data-processing/lib/python3.9/site-packages/towhee/runtime/nodes/node.py\", line 158, in _call\n    return True, self._op(*inputs), None\n  File \"/Users/wangjialong/.towhee/operators/ann-insert/milvus-client/versions/main/milvus_client.py\", line 52, in __call__\n    mr = self._collection.insert(row)\n  File \"/Users/wangjialong/anaconda3/envs/data-processing/lib/python3.9/site-packages/pymilvus/orm/collection.py\", line 497, in insert\n    res = conn.batch_insert(\n  File \"/Users/wangjialong/anaconda3/envs/data-processing/lib/python3.9/site-packages/pymilvus/decorators.py\", line 135, in handler\n    raise e from e\n  File \"/Users/wangjialong/anaconda3/envs/data-processing/lib/python3.9/site-packages/pymilvus/decorators.py\", line 131, in handler\n    return func(*args, **kwargs)\n  File \"/Users/wangjialong/anaconda3/envs/data-processing/lib/python3.9/site-packages/pymilvus/decorators.py\", line 170, in handler\n    return func(self, *args, **kwargs)\n  File \"/Users/wangjialong/anaconda3/envs/data-processing/lib/python3.9/site-packages/pymilvus/decorators.py\", line 110, in handler\n    raise e from e\n  File \"/Users/wangjialong/anaconda3/envs/data-processing/lib/python3.9/site-packages/pymilvus/decorators.py\", line 74, in handler\n    return func(*args, **kwargs)\n  File \"/Users/wangjialong/anaconda3/envs/data-processing/lib/python3.9/site-packages/pymilvus/client/grpc_handler.py\", line 566, in batch_insert\n    raise err from err\n  File \"/Users/wangjialong/anaconda3/envs/data-processing/lib/python3.9/site-packages/pymilvus/client/grpc_handler.py\", line 549, in batch_insert\n    request = self._prepare_batch_insert_request(\n  File \"/Users/wangjialong/anaconda3/envs/data-processing/lib/python3.9/site-packages/pymilvus/client/grpc_handler.py\", line 533, in _prepare_batch_insert_request\n    else Prepare.batch_insert_param(collection_name, entities, partition_name, fields_info)\n  File \"/Users/wangjialong/anaconda3/envs/data-processing/lib/python3.9/site-packages/pymilvus/client/prepare.py\", line 521, in batch_insert_param\n    location = cls._pre_batch_check(entities, fields_info)\n  File \"/Users/wangjialong/anaconda3/envs/data-processing/lib/python3.9/site-packages/pymilvus/client/prepare.py\", line 466, in _pre_batch_check\n    location, primary_key_loc, auto_id_loc = traverse_info(fields_info, entities)\n  File \"/Users/wangjialong/anaconda3/envs/data-processing/lib/python3.9/site-packages/pymilvus/client/utils.py\", line 270, in traverse_info\n    raise ParamError(\npymilvus.exceptions.ParamError: <ParamError: (code=1, message=Collection field dim is 768, but entities field dim is 1)>\n\n\n"
     ]
    }
   ],
   "source": [
    "from towhee import AutoPipes, AutoConfig\n",
    "\n",
    "first = '''\n",
    "Global DCS-Vehicle : 全球整车发票 - GV Invoice\n",
    "\n",
    "1. [Global DCS-Vehicle](index.html)\n",
    "2. [全球整车系统设计 - System Design](1050081.html)\n",
    "3. [通用语言 - Ubiquitous Language](1051364.html)\n",
    "4. [财务UL - Finance UL](1052871.html)\n",
    "\n",
    " Global DCS-Vehicle : 全球整车发票 - GV Invoice\n",
    "===========================================\n",
    "\n",
    " Created by  WangJialong 王佳龙, last modified on 11月 20, 2023\n",
    "'''\n",
    "\n",
    "# 默认模型 all-MiniLM-L6-v2\n",
    "config = AutoConfig.load_config('sentence_embedding')\n",
    "# config.model = 'all-MiniLM-L6-v2'\n",
    "# help(sentence_embedding)\n",
    "\n",
    "# generate embedding\n",
    "sentence_embedding = AutoPipes.pipeline('sentence_embedding', config=config)\n",
    "embedding = sentence_embedding(first).get()\n",
    "# print(embedding)\n",
    "\n",
    "insert_conf = AutoConfig.load_config('insert_milvus')\n",
    "insert_conf.collection_name = 'dkb_v1'\n",
    "insert_pipe = AutoPipes.pipeline('insert_milvus', insert_conf)\n",
    "# insert text and embedding into Milvus\n",
    "insert_pipe([\"test1\", embedding])\n",
    "                                "
   ]
  },
  {
   "cell_type": "code",
   "execution_count": null,
   "id": "bf6cefdb-6abe-45b0-97e1-df278de68345",
   "metadata": {},
   "outputs": [],
   "source": [
    "from towhee import AutoPipes, AutoConfig\n",
    "\n",
    "# set MilvusSearchConfig for the built-in search_milvus pipeline\n",
    "search_conf = AutoConfig.load_config('search_milvus')\n",
    "search_conf.collection_name = 'dkb_v1'\n",
    "search_conf.search_params = {'output_fields': ['id', 'name']}\n",
    "\n",
    "search_pipe = AutoPipes.pipeline('search_milvus', search_conf)\n",
    "\n",
    "# generate embedding\n",
    "embedding = sentence_embedding('全球整车系统设计').get()[0]\n",
    "\n",
    "# search embedding and get results in Milvus\n",
    "search_pipe(embedding).get_dict()"
   ]
  },
  {
   "cell_type": "code",
   "execution_count": null,
   "id": "f283237c-225e-4f58-b2a3-9ed89db6d6d2",
   "metadata": {},
   "outputs": [],
   "source": [
    "# 获取模型的输出\n",
    "with torch.no_grad():\n",
    "    model_output = model(**encoded_input)\n"
   ]
  },
  {
   "cell_type": "code",
   "execution_count": null,
   "id": "57d60c0d-9afe-4cb1-a060-ebda16d5e786",
   "metadata": {},
   "outputs": [],
   "source": [
    "# 获取文本的向量表示\n",
    "text_vector = model_output.last_hidden_state.mean(dim=1)\n",
    "print(text_vector)"
   ]
  },
  {
   "cell_type": "code",
   "execution_count": null,
   "id": "5296a272-05d8-4a63-9d28-ae7478ed4903",
   "metadata": {},
   "outputs": [],
   "source": []
  }
 ],
 "metadata": {
  "kernelspec": {
   "display_name": "Python 3 (ipykernel)",
   "language": "python",
   "name": "python3"
  },
  "language_info": {
   "codemirror_mode": {
    "name": "ipython",
    "version": 3
   },
   "file_extension": ".py",
   "mimetype": "text/x-python",
   "name": "python",
   "nbconvert_exporter": "python",
   "pygments_lexer": "ipython3",
   "version": "3.9.18"
  }
 },
 "nbformat": 4,
 "nbformat_minor": 5
}
