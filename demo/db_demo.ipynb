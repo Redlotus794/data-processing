{
 "cells": [
  {
   "cell_type": "code",
   "execution_count": 2,
   "metadata": {
    "tags": []
   },
   "outputs": [
    {
     "name": "stdout",
     "output_type": "stream",
     "text": [
      "env: ENV_FOR_DYNACONF=local\n",
      "settings loaded:  local\n",
      "settings loaded:  local\n"
     ]
    },
    {
     "data": {
      "text/plain": [
       "<module 'etl.dragon_etl' from '/Users/wangjialong/Documents/code/saic_project/global-vehicle-dragon/data-processing/etl/dragon_etl.py'>"
      ]
     },
     "execution_count": 2,
     "metadata": {},
     "output_type": "execute_result"
    }
   ],
   "source": [
    "# 查看环境变量参数\n",
    "%env ENV_FOR_DYNACONF=local\n",
    "import os\n",
    "\n",
    "os.chdir('/Users/wangjialong/Documents/code/saic_project/global-vehicle-dragon/data-processing')\n",
    "\n",
    "# 重新加载模块\n",
    "from importlib import reload\n",
    "import etl.dragon_etl\n",
    "import config.settings\n",
    "reload(config.settings)\n",
    "reload(etl.dragon_etl)"
   ]
  },
  {
   "cell_type": "code",
   "execution_count": null,
   "metadata": {
    "tags": []
   },
   "outputs": [],
   "source": [
    "# 安装package\n",
    "!pip install -r requirements.txt"
   ]
  },
  {
   "cell_type": "code",
   "execution_count": 5,
   "metadata": {
    "editable": true,
    "slideshow": {
     "slide_type": ""
    },
    "tags": []
   },
   "outputs": [
    {
     "name": "stdout",
     "output_type": "stream",
     "text": [
      "1  |  test comment\n"
     ]
    }
   ],
   "source": [
    "from db.model.gptb import BasicInfo\n",
    "from db.db_manager import DBConn\n",
    "\n",
    "db_conn = DBConn()\n",
    "\n",
    "db_conn.delete_all(BasicInfo)\n",
    "\n",
    "new_basic_info = BasicInfo(id=1, comment='test comment')\n",
    "db_conn.insert(new_basic_info)\n",
    "\n",
    "# 数据库查询basic_info信息\n",
    "new_basic_info = BasicInfo(id=1)\n",
    "query_result = db_conn.session.query(BasicInfo).filter(BasicInfo.id == new_basic_info.id).first()\n",
    "print(query_result.id, \" | \" , query_result.comment)\n",
    "db_conn.close()"
   ]
  },
  {
   "cell_type": "code",
   "execution_count": null,
   "metadata": {},
   "outputs": [],
   "source": [
    "# DragonKnowledgeBase\n",
    "\n",
    "from db.db_manager import DBConn\n",
    "from db.model.dragon_knowledge_base import DragonKnowledgeBase\n",
    "from etl.dragon_etl import save_model\n",
    "\n",
    "dbConn = DBConn()\n",
    "new_kb = DragonKnowledgeBase(name=\"test2\", \\\n",
    "                             hash=\"123465\", \\\n",
    "                             content=\"This is a test content\")\n",
    "try:\n",
    "    save_model(dbConn, new_kb)\n",
    "except Exception as e:\n",
    "    print(f\"{e}\")\n",
    "    pass\n",
    "finally:    \n",
    "    dbConn.close()\n",
    "# query_result = dbConn.insert(new_kb)"
   ]
  },
  {
   "cell_type": "code",
   "execution_count": null,
   "metadata": {
    "editable": true,
    "slideshow": {
     "slide_type": ""
    },
    "tags": []
   },
   "outputs": [],
   "source": [
    "from sqlalchemy import create_engine\n",
    "from config.settings import Settings\n",
    "\n",
    "engine = create_engine(Settings.DB_URL)\n",
    "connection = engine.connect()\n",
    "\n",
    "raw_connection = connection.connection\n",
    "\n",
    "cursor = raw_connection.cursor()\n",
    "\n",
    "cursor.close()\n",
    "connection.close()"
   ]
  },
  {
   "cell_type": "code",
   "execution_count": null,
   "metadata": {},
   "outputs": [],
   "source": [
    "from pymilvus import connections, FieldSchema, CollectionSchema, DataType, Collection, utility, MilvusClient\n",
    "from db.milvus_manager import MilvusConn\n",
    "import numpy as np\n",
    "\n",
    "# conn = MilvusConn()\n",
    "# conn.collection.load()\n",
    "# print(conn.collection.num_entities)\n",
    "# conn.drop()\n",
    "# conn.drop()\n",
    "collection = Collection(\"dkb\")\n",
    "collection.load()\n",
    "print(collection.num_entities)\n",
    "print(collection.is_empty)\n",
    "\n",
    "dim=768\n",
    "data_id = 1  # 示例ID，实际应用中应该是唯一的\n",
    "embedding_vector = np.random.rand(dim).tolist() \n",
    "# print(embedding_vector)\n",
    "# insert_result = collection.insert([\n",
    "#     [data_id],\n",
    "#     [embedding_vector]\n",
    "# ])\n",
    "# print(insert_result)"
   ]
  }
 ],
 "metadata": {
  "kernelspec": {
   "display_name": "Python 3 (ipykernel)",
   "language": "python",
   "name": "python3"
  },
  "language_info": {
   "codemirror_mode": {
    "name": "ipython",
    "version": 3
   },
   "file_extension": ".py",
   "mimetype": "text/x-python",
   "name": "python",
   "nbconvert_exporter": "python",
   "pygments_lexer": "ipython3",
   "version": "3.9.18"
  }
 },
 "nbformat": 4,
 "nbformat_minor": 4
}
