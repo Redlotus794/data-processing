{
 "cells": [
  {
   "cell_type": "markdown",
   "id": "06cf1c0c-1c4a-46a9-8b98-96fa0c275dd3",
   "metadata": {},
   "source": [
    "# Dragon Knowledge Base - DKB V1\n",
    "这是一个使用towhee 将文档知识库内容经过模型转换后存入Milvus数据库的例子\n",
    "模型使用上选择了Hugging face的shibing624/text2vec-base-chinese，期望能达到中文搜索的效果"
   ]
  },
  {
   "cell_type": "code",
   "execution_count": 2,
   "id": "83fadc74-9f66-4c30-a832-e7a22d0a112e",
   "metadata": {},
   "outputs": [
    {
     "name": "stdout",
     "output_type": "stream",
     "text": [
      "env: ENV_FOR_DYNACONF=local\n",
      "settings loaded:  local\n",
      "Debug: False\n"
     ]
    }
   ],
   "source": [
    "# 查看环境变量参数\n",
    "%env ENV_FOR_DYNACONF=local\n",
    "import os \n",
    "os.chdir('/Users/wangjialong/Documents/code/saic_project/global-vehicle-dragon/data-processing')\n",
    "\n",
    "# 重新加载模块\n",
    "from importlib import reload\n",
    "from config.settings import Settings\n",
    "import db.db_manager\n",
    "import config.settings\n",
    "import os\n",
    "import numpy as np\n",
    "from db.db_manager import DBConn\n",
    "from db.model.dragon_knowledge_base import DragonKnowledgeBase\n",
    "from towhee import pipe, ops\n",
    "from pymilvus import MilvusClient, utility, connections\n",
    "import pandas as pd\n",
    "from sqlalchemy import func, create_engine\n",
    "from db.db_manager import DBConn\n",
    "from db.model.dragon_knowledge_base import DragonKnowledgeBase\n",
    "from pymilvus import (\n",
    "    connections,\n",
    "    utility,\n",
    "    FieldSchema, CollectionSchema, DataType,\n",
    "    Collection,\n",
    ")\n",
    "from towhee import pipe, ops\n",
    "import numpy as np\n",
    "from towhee.datacollection import DataCollection\n",
    "from db.milvus_manager import MilvusConn\n",
    "from langchain.text_splitter import MarkdownTextSplitter\n",
    "\n",
    "\n",
    "reload(config.settings)\n",
    "reload(db.db_manager)\n",
    "print(f\"Debug: {bool(Settings.DEBUG)}\")\n",
    "\n",
    "# 参数\n",
    "database_name = 'dkb_v1'\n",
    "# 最大文本的长度\n",
    "max_token = 512\n",
    "# 查询分区数量\n",
    "partition_num = 100\n",
    "# my_model_name = 'shibing624/text2vec-base-chinese'\n",
    "my_model_name = 'bert-base-chinese'\n"
   ]
  },
  {
   "cell_type": "code",
   "execution_count": 3,
   "id": "f40536e6-51ba-49b0-b642-34351667b095",
   "metadata": {},
   "outputs": [
    {
     "name": "stderr",
     "output_type": "stream",
     "text": [
      "2024-02-24 00:20:03,376 - 140704529881984 - milvus_client.py-milvus_client:553 - DEBUG: Created new connection using: 23dc2544039244e0bb5511656539d6be\n"
     ]
    },
    {
     "name": "stdout",
     "output_type": "stream",
     "text": [
      "True\n",
      "describe: {'collection_name': 'dkb_v1', 'auto_id': True, 'num_shards': 1, 'description': 'reverse image search', 'fields': [{'field_id': 100, 'name': 'id', 'description': '', 'type': 5, 'params': {}, 'element_type': 0, 'auto_id': True, 'is_primary': True}, {'field_id': 101, 'name': 'name', 'description': '', 'type': 21, 'params': {'max_length': 255}, 'element_type': 0}, {'field_id': 102, 'name': 'embedding', 'description': '', 'type': 101, 'params': {'dim': 768}, 'element_type': 0}], 'aliases': [], 'collection_id': 447919517348397921, 'consistency_level': 2, 'properties': {}, 'num_partitions': 1}\n",
      "num of entities: 0\n"
     ]
    }
   ],
   "source": [
    "# \n",
    "connections.connect(host=Settings.MILVUS_URL, port=Settings.MILVUS_PORT)\n",
    "client = MilvusClient(host=Settings.MILVUS_URL, port=Settings.MILVUS_PORT)\n",
    "# 清理向量数据库\n",
    "# client.drop_collection('dkb_v1')\n",
    "print(utility.has_collection(collection_name = 'dkb_v1'))\n",
    "\n",
    "if utility.has_collection(collection_name = 'dkb_v1'):\n",
    "    print(f\"describe: {client.describe_collection(collection_name = 'dkb_v1')}\")\n",
    "    print(f\"num of entities: {client.num_entities(collection_name = 'dkb_v1')}\")"
   ]
  },
  {
   "cell_type": "code",
   "execution_count": 7,
   "id": "4725abd9-7e17-4c22-8f68-9194f282dd24",
   "metadata": {
    "scrolled": true
   },
   "outputs": [
    {
     "name": "stderr",
     "output_type": "stream",
     "text": [
      "2024-02-24 00:36:02,557 - 140704529881984 - milvus_client.py-milvus_client:553 - DEBUG: Created new connection using: c876f2d5ec3f4a6e8d4f6bdc5ad861bc\n"
     ]
    },
    {
     "ename": "NameError",
     "evalue": "name 'pipeline' is not defined",
     "output_type": "error",
     "traceback": [
      "\u001b[0;31m---------------------------------------------------------------------------\u001b[0m",
      "\u001b[0;31mNameError\u001b[0m                                 Traceback (most recent call last)",
      "Cell \u001b[0;32mIn[7], line 11\u001b[0m\n\u001b[1;32m      1\u001b[0m milvus_conn \u001b[38;5;241m=\u001b[39m MilvusConn(database_name, \u001b[38;5;241m768\u001b[39m)\n\u001b[1;32m      3\u001b[0m \u001b[38;5;66;03m# insert_pipe = (\u001b[39;00m\n\u001b[1;32m      4\u001b[0m \u001b[38;5;66;03m#     pipe.input('id', 'name', 'content')\u001b[39;00m\n\u001b[1;32m      5\u001b[0m \u001b[38;5;66;03m#         .map('content', 'vec', ops.text_embedding.dpr(model_name=my_model_name))\u001b[39;00m\n\u001b[0;32m   (...)\u001b[0m\n\u001b[1;32m      8\u001b[0m \u001b[38;5;66;03m#         .output()\u001b[39;00m\n\u001b[1;32m      9\u001b[0m \u001b[38;5;66;03m# )\u001b[39;00m\n\u001b[0;32m---> 11\u001b[0m pipe \u001b[38;5;241m=\u001b[39m \u001b[43mpipeline\u001b[49m(\u001b[38;5;124m'\u001b[39m\u001b[38;5;124mtowhee/text-embedding\u001b[39m\u001b[38;5;124m'\u001b[39m)\\\n\u001b[1;32m     12\u001b[0m     \u001b[38;5;241m.\u001b[39mset_param(model_name\u001b[38;5;241m=\u001b[39m\u001b[38;5;124m'\u001b[39m\u001b[38;5;124mbert-base-chinese\u001b[39m\u001b[38;5;124m'\u001b[39m)\\\n\u001b[1;32m     13\u001b[0m     \u001b[38;5;241m.\u001b[39mto(\u001b[38;5;124m'\u001b[39m\u001b[38;5;124mtowhee\u001b[39m\u001b[38;5;124m'\u001b[39m, \u001b[38;5;124m'\u001b[39m\u001b[38;5;124ml2_normalize\u001b[39m\u001b[38;5;124m'\u001b[39m, \u001b[38;5;124m'\u001b[39m\u001b[38;5;124mvector\u001b[39m\u001b[38;5;124m'\u001b[39m)\n\u001b[1;32m     16\u001b[0m db_conn \u001b[38;5;241m=\u001b[39m DBConn()\n\u001b[1;32m     18\u001b[0m count_query \u001b[38;5;241m=\u001b[39m \u001b[38;5;124mf\u001b[39m\u001b[38;5;124m\"\u001b[39m\u001b[38;5;124mSELECT count(1) FROM p_dragon.dragon_knowledge_base LIMIT \u001b[39m\u001b[38;5;132;01m{\u001b[39;00mpartition_num\u001b[38;5;132;01m}\u001b[39;00m\u001b[38;5;124m\"\u001b[39m\n",
      "\u001b[0;31mNameError\u001b[0m: name 'pipeline' is not defined"
     ]
    }
   ],
   "source": [
    "\n",
    "milvus_conn = MilvusConn(database_name, 768)\n",
    "\n",
    "# insert_pipe = (\n",
    "#     pipe.input('id', 'name', 'content')\n",
    "#         .map('content', 'vec', ops.text_embedding.dpr(model_name=my_model_name))\n",
    "#         .map('vec', 'vec', lambda x: x / np.linalg.norm(x, axis=0))\n",
    "#         .map(('name', 'vec'), 'insert_status', ops.ann_insert.milvus_client(host='127.0.0.1', port='19530', collection_name='dkb_v1'))\n",
    "#         .output()\n",
    "# )\n",
    "\n",
    "pipe = pipeline('towhee/text-embedding')\\\n",
    "    .set_param(model_name='bert-base-chinese')\\\n",
    "    .to('towhee', 'l2_normalize', 'vector')\n",
    "\n",
    "\n",
    "db_conn = DBConn()\n",
    "\n",
    "count_query = f\"SELECT count(1) FROM p_dragon.dragon_knowledge_base LIMIT {partition_num}\"\n",
    "total_num = db_conn.session.query(func.count(DragonKnowledgeBase.id)).scalar()\n",
    "iteration_times = total_num // partition_num + (0 if total_num % partition_num == 0 else 1)\n",
    "db_conn.close()\n",
    "\n",
    "print(f\"Records Count: {total_num} | iterations time: {iteration_times}\")\n",
    "for i in range(iteration_times):\n",
    "    engine = create_engine(Settings.DB_URL)\n",
    "    start_num = i * partition_num\n",
    "    select_query = f\"SELECT id, name, content as content FROM p_dragon.dragon_knowledge_base LIMIT {partition_num} OFFSET {start_num}\"     \n",
    "    with engine.connect() as connection, connection.begin():\n",
    "        df = pd.read_sql_query(sql=select_query, con=connection.connection)\n",
    "        for index, row in enumerate(df.itertuples(index=False), start=1):\n",
    "            if row.id is None:\n",
    "                break\n",
    "            else:\n",
    "                pass\n",
    "                \n",
    "            if len(row.content) > max_token:\n",
    "                print(f\"{row.id} 大于最大token长度，切割块\")\n",
    "                markdown_spilitter = MarkdownTextSplitter(chunk_size=max_token, chunk_overlap=0)\n",
    "                docs = markdown_spilitter.create_documents([row.content])\n",
    "                for split in docs:\n",
    "                    data = {\n",
    "                        'id': row.id,\n",
    "                        'name': row.name,\n",
    "                        'content': split.page_content\n",
    "                    }\n",
    "                    new_seg = pd.DataFrame(data, index=[0])\n",
    "                    normalize_vector = pipe(split.page_content)\n",
    "                    print(normalize_vector)\n",
    "                    # insert_pipe(*new_seg)\n",
    "            else:    \n",
    "                print(f\"处理数据 分片{i}|{index}\")\n",
    "                normalize_vector = pipe(row.page_content)\n",
    "                print(normalize_vector)\n",
    "                # insert_pipe(*row)\n",
    "    engine.dispose()\n",
    "\n",
    "milvus_conn.flush()\n",
    "milvus_conn.stats()\n",
    "print(f\"all done\")"
   ]
  },
  {
   "cell_type": "markdown",
   "id": "cca5094b-b7b1-411f-8533-633072cc38c1",
   "metadata": {},
   "source": [
    "# 模型效果"
   ]
  },
  {
   "cell_type": "code",
   "execution_count": 5,
   "id": "13b161f2-981e-48cb-b24d-4f1a3eeae8df",
   "metadata": {},
   "outputs": [
    {
     "name": "stderr",
     "output_type": "stream",
     "text": [
      "2024-02-22 18:29:48,532 - 140704529881984 - milvus_client.py-milvus_client:553 - DEBUG: Created new connection using: a2316b47ab614d1bb35f26e9b7b619f8\n"
     ]
    },
    {
     "name": "stdout",
     "output_type": "stream",
     "text": [
      "447890829204270755\n",
      "447890829204270757\n",
      "447890829204270759\n",
      "447890829204270761\n",
      "447890829204270753\n"
     ]
    }
   ],
   "source": [
    "prompt_word = '物料响应确认'\n",
    "\n",
    "ans_pipe = (\n",
    "    pipe.input('question')\n",
    "        .map('question', 'vec', ops.text_embedding.dpr(model_name=my_model_name))\n",
    "        .map('vec', 'vec', lambda x: x / np.linalg.norm(x, axis=0))\n",
    "        .map('vec', 'res', ops.ann_search.milvus_client(host=Settings.MILVUS_URL, port=Settings.MILVUS_PORT, collection_name='dkb_v1', limit=5))        \n",
    "        .map('res', 'ids', lambda x: [i[0] for i in x])\n",
    "        .output('question', 'ids')\n",
    ")\n",
    "\n",
    "ans = ans_pipe(prompt_word)\n",
    "ans = DataCollection(ans)\n",
    "db_conn = DBConn()\n",
    "milvus_conn = MilvusConn(database_name, 768)\n",
    "try:\n",
    "    for ans_result in ans:\n",
    "        for d_id in ans_result['ids']:\n",
    "            \n",
    "        #     query_result = db_conn.session.query(DragonKnowledgeBase)\\\n",
    "        #         .filter(DragonKnowledgeBase.name == d_id)\\\n",
    "        #         .first();\n",
    "            # help(milvus_conn.client)\n",
    "            print(f\"{d_id}\")\n",
    "            # print(milvus_conn.get(d_id))\n",
    "except Exception as e:\n",
    "    print(f\"{e}\")\n",
    "finally:\n",
    "    db_conn.close()\n",
    "# ans.show()"
   ]
  }
 ],
 "metadata": {
  "kernelspec": {
   "display_name": "Python 3 (ipykernel)",
   "language": "python",
   "name": "python3"
  },
  "language_info": {
   "codemirror_mode": {
    "name": "ipython",
    "version": 3
   },
   "file_extension": ".py",
   "mimetype": "text/x-python",
   "name": "python",
   "nbconvert_exporter": "python",
   "pygments_lexer": "ipython3",
   "version": "3.9.18"
  }
 },
 "nbformat": 4,
 "nbformat_minor": 5
}
