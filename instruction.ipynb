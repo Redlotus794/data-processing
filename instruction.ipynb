{
 "cells": [
  {
   "cell_type": "code",
   "execution_count": 6,
   "metadata": {
    "tags": []
   },
   "outputs": [
    {
     "name": "stdout",
     "output_type": "stream",
     "text": [
      "env: ENV_FOR_DYNACONF=local\n",
      "settings loaded:  local\n"
     ]
    },
    {
     "data": {
      "text/plain": [
       "<module 'config.settings' from '/Users/wangjialong/Documents/code/saic_project/global-vehicle-dragon/data-processing/config/settings.py'>"
      ]
     },
     "execution_count": 6,
     "metadata": {},
     "output_type": "execute_result"
    }
   ],
   "source": [
    "# 查看环境变量参数\n",
    "%env ENV_FOR_DYNACONF=local\n",
    "# 重新加载模块\n",
    "from importlib import reload\n",
    "import config.settings\n",
    "reload(config.settings)"
   ]
  },
  {
   "cell_type": "code",
   "execution_count": 2,
   "metadata": {
    "tags": []
   },
   "outputs": [
    {
     "name": "stdout",
     "output_type": "stream",
     "text": [
      "Requirement already satisfied: sqlalchemy==1.3.23 in /Users/wangjialong/anaconda3/lib/python3.11/site-packages (from -r requirements.txt (line 2)) (1.3.23)\n",
      "Requirement already satisfied: psycopg2==2.9.9 in /Users/wangjialong/anaconda3/lib/python3.11/site-packages (from -r requirements.txt (line 3)) (2.9.9)\n",
      "Requirement already satisfied: dynaconf==3.2.4 in /Users/wangjialong/anaconda3/lib/python3.11/site-packages (from -r requirements.txt (line 5)) (3.2.4)\n"
     ]
    }
   ],
   "source": [
    "# 安装package\n",
    "!pip install -r requirements.txt"
   ]
  },
  {
   "cell_type": "code",
   "execution_count": 7,
   "metadata": {
    "tags": []
   },
   "outputs": [
    {
     "name": "stdout",
     "output_type": "stream",
     "text": [
      "2024-02-07 17:30:52,787 INFO sqlalchemy.engine.base.Engine select version()\n",
      "2024-02-07 17:30:52,787 INFO sqlalchemy.engine.base.Engine {}\n",
      "2024-02-07 17:30:52,788 INFO sqlalchemy.engine.base.Engine select current_schema()\n",
      "2024-02-07 17:30:52,789 INFO sqlalchemy.engine.base.Engine {}\n",
      "2024-02-07 17:30:52,790 INFO sqlalchemy.engine.base.Engine SELECT CAST('test plain returns' AS VARCHAR(60)) AS anon_1\n",
      "2024-02-07 17:30:52,791 INFO sqlalchemy.engine.base.Engine {}\n",
      "2024-02-07 17:30:52,792 INFO sqlalchemy.engine.base.Engine SELECT CAST('test unicode returns' AS VARCHAR(60)) AS anon_1\n",
      "2024-02-07 17:30:52,794 INFO sqlalchemy.engine.base.Engine {}\n",
      "2024-02-07 17:30:52,795 INFO sqlalchemy.engine.base.Engine show standard_conforming_strings\n",
      "2024-02-07 17:30:52,795 INFO sqlalchemy.engine.base.Engine {}\n",
      "2024-02-07 17:30:52,796 INFO sqlalchemy.engine.base.Engine BEGIN (implicit)\n",
      "2024-02-07 17:30:52,797 INFO sqlalchemy.engine.base.Engine INSERT INTO gptb.basic_info (id, comment) VALUES (%(id)s, %(comment)s)\n",
      "2024-02-07 17:30:52,798 INFO sqlalchemy.engine.base.Engine {'id': 1, 'comment': 'test comment'}\n",
      "2024-02-07 17:30:52,801 INFO sqlalchemy.engine.base.Engine COMMIT\n"
     ]
    }
   ],
   "source": [
    "# 数据库插入一条basic_info信息\n",
    "from db.db_manager import DBConn\n",
    "from db.model.gptb import BasicInfo\n",
    "dbConn = DBConn()\n",
    "\n",
    "new_basic_info = BasicInfo(id=1, comment='test comment')\n",
    "dbConn.insert(new_basic_info)"
   ]
  },
  {
   "cell_type": "code",
   "execution_count": 12,
   "metadata": {
    "tags": []
   },
   "outputs": [
    {
     "name": "stdout",
     "output_type": "stream",
     "text": [
      "2024-02-07 17:36:47,978 INFO sqlalchemy.engine.base.Engine SELECT gptb.basic_info.id AS gptb_basic_info_id, gptb.basic_info.comment AS gptb_basic_info_comment \n",
      "FROM gptb.basic_info \n",
      "WHERE gptb.basic_info.id = %(id_1)s \n",
      " LIMIT %(param_1)s\n",
      "2024-02-07 17:36:47,979 INFO sqlalchemy.engine.base.Engine {'id_1': 1, 'param_1': 1}\n",
      "1  |  test comment\n"
     ]
    }
   ],
   "source": [
    "# 数据库查询basic_info信息\n",
    "new_basic_info = BasicInfo(id=1)\n",
    "query_result = dbConn.session.query(BasicInfo).filter(BasicInfo.id == new_basic_info.id).first()\n",
    "print(query_result.id, \" | \" , query_result.comment)"
   ]
  },
  {
   "cell_type": "code",
   "execution_count": null,
   "metadata": {},
   "outputs": [],
   "source": []
  },
  {
   "cell_type": "code",
   "execution_count": null,
   "metadata": {},
   "outputs": [],
   "source": []
  },
  {
   "cell_type": "code",
   "execution_count": 4,
   "metadata": {
    "tags": []
   },
   "outputs": [
    {
     "name": "stdout",
     "output_type": "stream",
     "text": [
      "db_url:  postgresql://localhost:5432/dragon-db\n",
      "Hi, PyCharm\n"
     ]
    }
   ],
   "source": [
    "# 执行main函数\n",
    "%run main.py "
   ]
  },
  {
   "cell_type": "code",
   "execution_count": null,
   "metadata": {},
   "outputs": [],
   "source": []
  },
  {
   "cell_type": "code",
   "execution_count": null,
   "metadata": {},
   "outputs": [],
   "source": []
  },
  {
   "cell_type": "code",
   "execution_count": null,
   "metadata": {},
   "outputs": [],
   "source": []
  }
 ],
 "metadata": {
  "kernelspec": {
   "display_name": "Python 3 (ipykernel)",
   "language": "python",
   "name": "python3"
  },
  "language_info": {
   "codemirror_mode": {
    "name": "ipython",
    "version": 3
   },
   "file_extension": ".py",
   "mimetype": "text/x-python",
   "name": "python",
   "nbconvert_exporter": "python",
   "pygments_lexer": "ipython3",
   "version": "3.11.5"
  }
 },
 "nbformat": 4,
 "nbformat_minor": 4
}