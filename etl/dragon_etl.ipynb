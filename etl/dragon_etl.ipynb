{
 "cells": [
  {
   "cell_type": "code",
   "execution_count": null,
   "id": "3bd1a52b-cdd4-4e83-83e8-42d5bee686e2",
   "metadata": {
    "editable": true,
    "slideshow": {
     "slide_type": ""
    },
    "tags": []
   },
   "outputs": [],
   "source": [
    "# HTML to Markdown\n",
    "!pip install -r requirements.txt"
   ]
  },
  {
   "cell_type": "code",
   "execution_count": null,
   "id": "458eec7e-605b-424b-8f04-f7842e6296b5",
   "metadata": {
    "editable": true,
    "slideshow": {
     "slide_type": ""
    },
    "tags": []
   },
   "outputs": [],
   "source": [
    "# 查看环境变量参数\n",
    "%env ENV_FOR_DYNACONF=local\n",
    "\n",
    "import os \n",
    "os.chdir('/Users/wangjialong/Documents/code/saic_project/global-vehicle-dragon/data-processing')\n",
    "\n",
    "# 重新加载模块\n",
    "from importlib import reload\n",
    "from config.settings import Settings\n",
    "import db.db_manager\n",
    "import config.settings\n",
    "import os\n",
    "\n",
    "reload(config.settings)\n",
    "reload(db.db_manager)\n",
    "print(f\"Debug: {bool(Settings.DEBUG)}\")\n",
    "\n",
    "file_directory = r'/Users/wangjialong/Documents/AI/SAIC_DCSGlobalVehicle/全球整车系统设计/GLBDCSVE'\n",
    "output_directory = r'/Users/wangjialong/Documents/AI/SAIC_DCSGlobalVehicle/全球整车系统设计/GLBDCSVE_OUTPUT'\n",
    "files = os.listdir(file_directory)\n",
    "file_count = sum(os.path.isfile(os.path.join(file_directory, item)) for item in files)\n",
    "print(f\"目录 '{file_directory}' 下有 {file_count} 个文件。\")"
   ]
  },
  {
   "cell_type": "code",
   "execution_count": null,
   "id": "10b9840d-fff0-4b75-96b2-91b0d5066bf9",
   "metadata": {},
   "outputs": [],
   "source": [
    "# 将导出的confluence文档，进行处理，放到数据库中\n",
    "from db.model.dragon_knowledge_base import DragonKnowledgeBase\n",
    "import hashlib\n",
    "from etl.dragon_etl import convert_to_md, save_model\n",
    "from db.db_manager import DBConn\n",
    "\n",
    "# 执行转换过程，并保存到数据库中\n",
    "if not os.path.exists(output_directory):\n",
    "    os.makedirs(output_directory)\n",
    "\n",
    "for index, item in enumerate(files, start=1):\n",
    "    black_list = ['.DS_Store']\n",
    "    if item in black_list:\n",
    "        continue;\n",
    "    \n",
    "    db_conn = DBConn()\n",
    "    full_path = os.path.join(file_directory, item)\n",
    "    new_item_name = item.replace('.html', '.md')\n",
    "    hash_obj = hashlib.sha256()\n",
    "    if os.path.isfile(full_path):\n",
    "        print(f\"处理文件 {index} |'{item}'\")\n",
    "        try:\n",
    "            with open(full_path, 'r') as file:\n",
    "                content = file.read()\n",
    "                new_file_name = os.path.join(output_directory, new_item_name)\n",
    "                md_result = convert_to_md(content);\n",
    "                hash_obj.update(md_result.encode())\n",
    "                new_model = DragonKnowledgeBase(name=new_item_name, \\\n",
    "                                            hash=hash_obj.hexdigest(), \\\n",
    "                                            content=md_result)\n",
    "                # 数据库保存\n",
    "                save_model(conn=db_conn, model=new_model)\n",
    "                                            \n",
    "                # 输出文件\n",
    "                with open(new_file_name, 'w') as wfile:\n",
    "                    wfile.write(md_result)                    \n",
    "        except Exception as e:\n",
    "            print(f\"Failed! {index} | {full_path} | {e}\")\n",
    "    db_conn.close()\n",
    "        "
   ]
  }
 ],
 "metadata": {
  "kernelspec": {
   "display_name": "Python 3 (ipykernel)",
   "language": "python",
   "name": "python3"
  },
  "language_info": {
   "codemirror_mode": {
    "name": "ipython",
    "version": 3
   },
   "file_extension": ".py",
   "mimetype": "text/x-python",
   "name": "python",
   "nbconvert_exporter": "python",
   "pygments_lexer": "ipython3",
   "version": "3.9.18"
  }
 },
 "nbformat": 4,
 "nbformat_minor": 5
}
